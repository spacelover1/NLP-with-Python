{
  "nbformat": 4,
  "nbformat_minor": 0,
  "metadata": {
    "colab": {
      "name": "featureEngineering_transformation.ipynb",
      "provenance": []
    },
    "kernelspec": {
      "name": "python3",
      "display_name": "Python 3"
    },
    "language_info": {
      "name": "python"
    }
  },
  "cells": [
    {
      "cell_type": "markdown",
      "metadata": {
        "id": "tdYzGsg0JwfC"
      },
      "source": [
        "## Feature Engineering: Transformation"
      ]
    },
    {
      "cell_type": "code",
      "metadata": {
        "id": "U05rMvmRJeqN"
      },
      "source": [
        "import pandas as pd\n",
        "\n",
        "dataset = pd.read_csv('SMSSpamCollection.tsv', sep='\\t')\n",
        "dataset.columns = ['label', 'body']"
      ],
      "execution_count": 3,
      "outputs": []
    },
    {
      "cell_type": "code",
      "metadata": {
        "colab": {
          "base_uri": "https://localhost:8080/",
          "height": 206
        },
        "id": "H3FnxE1FQxhJ",
        "outputId": "2b4380f5-6944-4087-9e22-c32be8f598c5"
      },
      "source": [
        "import string\n",
        "\n",
        "def punct_percentage(text):\n",
        "  count = sum([1 for char in text if char in string.punctuation])\n",
        "  return round(count/ (len(text) - text.count(\" \")), 3) * 100\n",
        "\n",
        "dataset['punct%'] = dataset['body'].apply(lambda x: punct_percentage(x))\n",
        "dataset['body_len'] = dataset['body'].apply(lambda x: len(x) - x.count(\" \"))\n",
        "dataset.head()\n"
      ],
      "execution_count": 4,
      "outputs": [
        {
          "output_type": "execute_result",
          "data": {
            "text/html": [
              "<div>\n",
              "<style scoped>\n",
              "    .dataframe tbody tr th:only-of-type {\n",
              "        vertical-align: middle;\n",
              "    }\n",
              "\n",
              "    .dataframe tbody tr th {\n",
              "        vertical-align: top;\n",
              "    }\n",
              "\n",
              "    .dataframe thead th {\n",
              "        text-align: right;\n",
              "    }\n",
              "</style>\n",
              "<table border=\"1\" class=\"dataframe\">\n",
              "  <thead>\n",
              "    <tr style=\"text-align: right;\">\n",
              "      <th></th>\n",
              "      <th>label</th>\n",
              "      <th>body</th>\n",
              "      <th>punct%</th>\n",
              "      <th>body_len</th>\n",
              "    </tr>\n",
              "  </thead>\n",
              "  <tbody>\n",
              "    <tr>\n",
              "      <th>0</th>\n",
              "      <td>spam</td>\n",
              "      <td>Free entry in 2 a wkly comp to win FA Cup fina...</td>\n",
              "      <td>4.7</td>\n",
              "      <td>128</td>\n",
              "    </tr>\n",
              "    <tr>\n",
              "      <th>1</th>\n",
              "      <td>ham</td>\n",
              "      <td>Nah I don't think he goes to usf, he lives aro...</td>\n",
              "      <td>4.1</td>\n",
              "      <td>49</td>\n",
              "    </tr>\n",
              "    <tr>\n",
              "      <th>2</th>\n",
              "      <td>ham</td>\n",
              "      <td>Even my brother is not like to speak with me. ...</td>\n",
              "      <td>3.2</td>\n",
              "      <td>62</td>\n",
              "    </tr>\n",
              "    <tr>\n",
              "      <th>3</th>\n",
              "      <td>ham</td>\n",
              "      <td>I HAVE A DATE ON SUNDAY WITH WILL!!</td>\n",
              "      <td>7.1</td>\n",
              "      <td>28</td>\n",
              "    </tr>\n",
              "    <tr>\n",
              "      <th>4</th>\n",
              "      <td>ham</td>\n",
              "      <td>As per your request 'Melle Melle (Oru Minnamin...</td>\n",
              "      <td>4.4</td>\n",
              "      <td>135</td>\n",
              "    </tr>\n",
              "  </tbody>\n",
              "</table>\n",
              "</div>"
            ],
            "text/plain": [
              "  label                                               body  punct%  body_len\n",
              "0  spam  Free entry in 2 a wkly comp to win FA Cup fina...     4.7       128\n",
              "1   ham  Nah I don't think he goes to usf, he lives aro...     4.1        49\n",
              "2   ham  Even my brother is not like to speak with me. ...     3.2        62\n",
              "3   ham                I HAVE A DATE ON SUNDAY WITH WILL!!     7.1        28\n",
              "4   ham  As per your request 'Melle Melle (Oru Minnamin...     4.4       135"
            ]
          },
          "metadata": {
            "tags": []
          },
          "execution_count": 4
        }
      ]
    },
    {
      "cell_type": "code",
      "metadata": {
        "colab": {
          "base_uri": "https://localhost:8080/",
          "height": 281
        },
        "id": "DMj74S5VW3k1",
        "outputId": "4ca3483f-dc99-4192-b0d0-310b7c5e7866"
      },
      "source": [
        "from matplotlib import pyplot\n",
        "import numpy as np\n",
        "%matplotlib inline\n",
        "\n",
        "bins = np.linspace(0, 200, 40)\n",
        "pyplot.hist(dataset['body_len'], bins)\n",
        "pyplot.title('Body Length Distribution')\n",
        "pyplot.show()"
      ],
      "execution_count": 5,
      "outputs": [
        {
          "output_type": "display_data",
          "data": {
            "image/png": "[encoded data removed]",
            "text/plain": [
              "<Figure size 432x288 with 1 Axes>"
            ]
          },
          "metadata": {
            "tags": [],
            "needs_background": "light"
          }
        }
      ]
    },
    {
      "cell_type": "code",
      "metadata": {
        "colab": {
          "base_uri": "https://localhost:8080/",
          "height": 281
        },
        "id": "sapBkzLMaGwQ",
        "outputId": "c676bfa5-30a2-45d2-b8d5-7a4111d845db"
      },
      "source": [
        "bins = np.linspace(0, 50, 40)\n",
        "pyplot.hist(dataset['punct%'], bins)\n",
        "pyplot.title('Punctuation Percentage Distribution')\n",
        "pyplot.show()"
      ],
      "execution_count": 6,
      "outputs": [
        {
          "output_type": "display_data",
          "data": {
            "image/png": "[encoded data removed]",
            "text/plain": [
              "<Figure size 432x288 with 1 Axes>"
            ]
          },
          "metadata": {
            "tags": [],
            "needs_background": "light"
          }
        }
      ]
    },
    {
      "cell_type": "code",
      "metadata": {
        "id": "XWQncauMa5_E",
        "colab": {
          "base_uri": "https://localhost:8080/",
          "height": 1000
        },
        "outputId": "fc974b9b-d99e-49b3-a4ad-7c3886098734"
      },
      "source": [
        "for i in range(1, 6):\n",
        "  pyplot.hist((dataset['punct%'])** (1/i), bins=40)\n",
        "  pyplot.title('transformation: 1/{}'.format(str(i)))\n",
        "  pyplot.show()"
      ],
      "execution_count": 8,
      "outputs": [
        {
          "output_type": "display_data",
          "data": {
            "image/png": "[encoded data removed]",
            "text/plain": [
              "<Figure size 432x288 with 1 Axes>"
            ]
          },
          "metadata": {
            "tags": [],
            "needs_background": "light"
          }
        },
        {
          "output_type": "display_data",
          "data": {
            "image/png": "[encoded data removed]",
            "text/plain": [
              "<Figure size 432x288 with 1 Axes>"
            ]
          },
          "metadata": {
            "tags": [],
            "needs_background": "light"
          }
        },
        {
          "output_type": "display_data",
          "data": {
            "image/png": "[encoded data removed]",
            "text/plain": [
              "<Figure size 432x288 with 1 Axes>"
            ]
          },
          "metadata": {
            "tags": [],
            "needs_background": "light"
          }
        },
        {
          "output_type": "display_data",
          "data": {
            "image/png": "[encoded data removed]",
            "text/plain": [
              "<Figure size 432x288 with 1 Axes>"
            ]
          },
          "metadata": {
            "tags": [],
            "needs_background": "light"
          }
        },
        {
          "output_type": "display_data",
          "data": {
            "image/png": "[encoded data removed]",
            "text/plain": [
              "<Figure size 432x288 with 1 Axes>"
            ]
          },
          "metadata": {
            "tags": [],
            "needs_background": "light"
          }
        }
      ]
    },
    {
      "cell_type": "code",
      "metadata": {
        "colab": {
          "base_uri": "https://localhost:8080/"
        },
        "id": "iLHW7zmFUJxF",
        "outputId": "660a84da-5681-4a0e-8bc5-121c322ddd4a"
      },
      "source": [
        "print(dataset['punct%'])"
      ],
      "execution_count": 9,
      "outputs": [
        {
          "output_type": "stream",
          "text": [
            "0        4.7\n",
            "1        4.1\n",
            "2        3.2\n",
            "3        7.1\n",
            "4        4.4\n",
            "        ... \n",
            "5562     6.1\n",
            "5563     3.4\n",
            "5564    14.6\n",
            "5565     1.0\n",
            "5566     4.8\n",
            "Name: punct%, Length: 5567, dtype: float64\n"
          ],
          "name": "stdout"
        }
      ]
    },
    {
      "cell_type": "code",
      "metadata": {
        "id": "NXb8G2tAUWEZ"
      },
      "source": [
        ""
      ],
      "execution_count": null,
      "outputs": []
    }
  ]
}